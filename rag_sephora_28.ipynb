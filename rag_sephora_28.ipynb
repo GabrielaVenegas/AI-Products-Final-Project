{
  "cells": [
    {
      "cell_type": "code",
      "execution_count": 26,
      "metadata": {
        "colab": {
          "base_uri": "https://localhost:8080/"
        },
        "id": "bRFyruag0nIb",
        "outputId": "f44ff1b3-fed2-44c0-a573-e89dbdf23362"
      },
      "outputs": [
        {
          "name": "stdout",
          "output_type": "stream",
          "text": [
            "Requirement already satisfied: openai in /usr/local/lib/python3.10/dist-packages (1.30.5)\n",
            "Requirement already satisfied: anyio<5,>=3.5.0 in /usr/local/lib/python3.10/dist-packages (from openai) (3.7.1)\n",
            "Requirement already satisfied: distro<2,>=1.7.0 in /usr/lib/python3/dist-packages (from openai) (1.7.0)\n",
            "Requirement already satisfied: httpx<1,>=0.23.0 in /usr/local/lib/python3.10/dist-packages (from openai) (0.27.0)\n",
            "Requirement already satisfied: pydantic<3,>=1.9.0 in /usr/local/lib/python3.10/dist-packages (from openai) (2.7.1)\n",
            "Requirement already satisfied: sniffio in /usr/local/lib/python3.10/dist-packages (from openai) (1.3.1)\n",
            "Requirement already satisfied: tqdm>4 in /usr/local/lib/python3.10/dist-packages (from openai) (4.66.4)\n",
            "Requirement already satisfied: typing-extensions<5,>=4.7 in /usr/local/lib/python3.10/dist-packages (from openai) (4.11.0)\n",
            "Requirement already satisfied: idna>=2.8 in /usr/local/lib/python3.10/dist-packages (from anyio<5,>=3.5.0->openai) (3.7)\n",
            "Requirement already satisfied: exceptiongroup in /usr/local/lib/python3.10/dist-packages (from anyio<5,>=3.5.0->openai) (1.2.1)\n",
            "Requirement already satisfied: certifi in /usr/local/lib/python3.10/dist-packages (from httpx<1,>=0.23.0->openai) (2024.2.2)\n",
            "Requirement already satisfied: httpcore==1.* in /usr/local/lib/python3.10/dist-packages (from httpx<1,>=0.23.0->openai) (1.0.5)\n",
            "Requirement already satisfied: h11<0.15,>=0.13 in /usr/local/lib/python3.10/dist-packages (from httpcore==1.*->httpx<1,>=0.23.0->openai) (0.14.0)\n",
            "Requirement already satisfied: annotated-types>=0.4.0 in /usr/local/lib/python3.10/dist-packages (from pydantic<3,>=1.9.0->openai) (0.7.0)\n",
            "Requirement already satisfied: pydantic-core==2.18.2 in /usr/local/lib/python3.10/dist-packages (from pydantic<3,>=1.9.0->openai) (2.18.2)\n",
            "Requirement already satisfied: pinecone-client in /usr/local/lib/python3.10/dist-packages (4.1.0)\n",
            "Requirement already satisfied: certifi>=2019.11.17 in /usr/local/lib/python3.10/dist-packages (from pinecone-client) (2024.2.2)\n",
            "Requirement already satisfied: tqdm>=4.64.1 in /usr/local/lib/python3.10/dist-packages (from pinecone-client) (4.66.4)\n",
            "Requirement already satisfied: typing-extensions>=3.7.4 in /usr/local/lib/python3.10/dist-packages (from pinecone-client) (4.11.0)\n",
            "Requirement already satisfied: urllib3>=1.26.0 in /usr/local/lib/python3.10/dist-packages (from pinecone-client) (2.0.7)\n"
          ]
        }
      ],
      "source": [
        "!pip install openai\n",
        "!pip install pinecone-client"
      ]
    },
    {
      "cell_type": "code",
      "execution_count": 27,
      "metadata": {
        "id": "6WU0obcN0ncv"
      },
      "outputs": [],
      "source": [
        "from openai import OpenAI\n",
        "from pinecone import Pinecone,PodSpec\n",
        "import pandas as pd\n",
        "from uuid import uuid4\n",
        "import numpy as np"
      ]
    },
    {
      "cell_type": "code",
      "execution_count": 28,
      "metadata": {
        "id": "iEPJ3eEn0f9o"
      },
      "outputs": [],
      "source": [
        "client= OpenAI(api_key=\"credential\")\n",
        "pc=Pinecone(api_key=\"credential\")"
      ]
    },
    {
      "cell_type": "code",
      "execution_count": 29,
      "metadata": {
        "id": "qDNW17NY1rSb"
      },
      "outputs": [],
      "source": [
        "#pc.create_index(\"sephora\",dimension=1536,metric=\"cosine\",spec=PodSpec(environment=\"gcp-starter\"))"
      ]
    },
    {
      "cell_type": "code",
      "execution_count": 30,
      "metadata": {
        "colab": {
          "base_uri": "https://localhost:8080/"
        },
        "id": "gsU43YQL2M0w",
        "outputId": "ecc6fb0b-1d44-401a-a019-6e85083bc884"
      },
      "outputs": [
        {
          "data": {
            "text/plain": [
              "{'dimension': 1536,\n",
              " 'index_fullness': 0.08494,\n",
              " 'namespaces': {'sephora': {'vector_count': 8494}},\n",
              " 'total_vector_count': 8494}"
            ]
          },
          "execution_count": 30,
          "metadata": {},
          "output_type": "execute_result"
        }
      ],
      "source": [
        "# Accessing the Pinecone index named \"sephora\"\n",
        "index = pc.Index(\"sephora\")\n",
        "# Describing and retrieving statistics about the \"sephora\" index\n",
        "index.describe_index_stats()"
      ]
    },
    {
      "cell_type": "code",
      "execution_count": 31,
      "metadata": {
        "id": "RQ9iv5cxFwwD"
      },
      "outputs": [],
      "source": [
        "# Reading product information from a CSV file into a Pandas DataFrame\n",
        "sephora_products = pd.read_csv('product_info.csv')\n",
        "\n",
        "# Converting the 'rating' column to string type\n",
        "sephora_products['rating'] = sephora_products['rating'].astype(str)\n",
        "sephora_products['price_usd'] = sephora_products['price_usd'].astype(str)\n",
        "\n",
        "import re\n",
        "\n",
        "# Define a function to clean special characters from a text\n",
        "def clean_text(text):\n",
        "    if isinstance(text, str):\n",
        "        return re.sub(r'[^A-Za-z0-9\\s]+', '', text)\n",
        "    return text\n",
        "\n",
        "# List of columns to clean\n",
        "text_columns = [\n",
        "    'product_name', 'size', 'ingredients',\n",
        "    'highlights', 'primary_category', 'secondary_category', 'tertiary_category'\n",
        "]\n",
        "\n",
        "# Apply the cleaning function to the selected columns\n",
        "for column in text_columns:\n",
        "    if column in sephora_products.columns:\n",
        "        sephora_products[column] = sephora_products[column].apply(clean_text)"
      ]
    },
    {
      "cell_type": "code",
      "execution_count": 32,
      "metadata": {
        "colab": {
          "base_uri": "https://localhost:8080/"
        },
        "id": "k0337ckca3Qj",
        "outputId": "53108b3a-1fc5-4c45-ee6b-2770a48076c1"
      },
      "outputs": [
        {
          "data": {
            "text/plain": [
              "8494"
            ]
          },
          "execution_count": 32,
          "metadata": {},
          "output_type": "execute_result"
        }
      ],
      "source": [
        "sephora_products.shape[0]"
      ]
    },
    {
      "cell_type": "code",
      "execution_count": 33,
      "metadata": {
        "id": "VL3wjo9s2TM0"
      },
      "outputs": [],
      "source": [
        "# Creating a new column 'content' in the DataFrame 'sephora_products'\n",
        "# This column product details into a single string\n",
        "sephora_products['product_id'].fillna('sin info', inplace=True)\n",
        "sephora_products['product_name'].fillna('sin info', inplace=True)\n",
        "sephora_products['highlights'].fillna('sin info', inplace=True)\n",
        "sephora_products['primary_category'].fillna('sin info', inplace=True)\n",
        "sephora_products['secondary_category'].fillna('sin info', inplace=True)\n",
        "sephora_products['tertiary_category'].fillna('sin info', inplace=True)\n",
        "sephora_products['rating'].fillna('sin info', inplace=True)\n",
        "sephora_products['size'].fillna('sin info', inplace=True)\n",
        "sephora_products['price_usd'].fillna('sin info', inplace=True)\n",
        "sephora_products['ingredients'].fillna('sin info', inplace=True)\n",
        "\n",
        "sephora_products[\"content\"] = (\n",
        "    \"ID:(\" + sephora_products[\"product_id\"]\n",
        "    + \"), Name:(\" + sephora_products[\"product_name\"]\n",
        "    + \"), highlights:(\" + sephora_products[\"highlights\"]\n",
        "    + \"), primary_category:(\" + sephora_products[\"primary_category\"]\n",
        "    + \"), secondary_category:(\" + sephora_products[\"secondary_category\"]\n",
        "    + \"), tertiary_category:(\" + sephora_products[\"tertiary_category\"]\n",
        "    + \"), rating:(\" + sephora_products[\"rating\"]\n",
        "    + \"), size:(\" + sephora_products[\"size\"]\n",
        "    + \"), price:(\" + sephora_products[\"price_usd\"]\n",
        "    + \"), ingredients:(\" + sephora_products[\"ingredients\"] + \")\")"
      ]
    },
    {
      "cell_type": "code",
      "execution_count": 34,
      "metadata": {
        "colab": {
          "base_uri": "https://localhost:8080/"
        },
        "id": "nrfuoNpcagV7",
        "outputId": "b274b214-e678-4bf3-bc96-91bf5051e752"
      },
      "outputs": [
        {
          "name": "stdout",
          "output_type": "stream",
          "text": [
            "Empty DataFrame\n",
            "Columns: [product_id, product_name, brand_id, brand_name, loves_count, rating, reviews, size, variation_type, variation_value, variation_desc, ingredients, price_usd, value_price_usd, sale_price_usd, limited_edition, new, online_only, out_of_stock, sephora_exclusive, highlights, primary_category, secondary_category, tertiary_category, child_count, child_max_price, child_min_price, content]\n",
            "Index: []\n",
            "\n",
            "[0 rows x 28 columns]\n"
          ]
        }
      ],
      "source": [
        "# Crear una máscara booleana para identificar las filas con NaN en la columna 'content'\n",
        "nan_content_mask = sephora_products['content'].isna()\n",
        "\n",
        "# Filtrar el DataFrame para mostrar solo las filas con NaN en la columna 'content'\n",
        "rows_with_nan_content = sephora_products[nan_content_mask]\n",
        "\n",
        "# Mostrar las filas con NaN en la columna 'content'\n",
        "print(rows_with_nan_content)\n",
        "\n"
      ]
    },
    {
      "cell_type": "code",
      "execution_count": 35,
      "metadata": {
        "id": "XhTp_3fP2_xv"
      },
      "outputs": [],
      "source": [
        "batch_limit = 10  # The maximum number of items to process in a single batch\n",
        "namespace = \"sephora\"  # The namespace for categorizing data within the Pinecone index"
      ]
    },
    {
      "cell_type": "code",
      "execution_count": 36,
      "metadata": {
        "colab": {
          "base_uri": "https://localhost:8080/",
          "height": 172
        },
        "id": "FC0v_cvzTyEF",
        "outputId": "bf251e0b-0b8d-4504-aeda-547b4e35356c"
      },
      "outputs": [
        {
          "data": {
            "application/vnd.google.colaboratory.intrinsic+json": {
              "type": "string"
            },
            "text/plain": [
              "'ID:(P474809), Name:(Blue Algae Vitamin C Skinclarity Brightening Serum), highlights:(sin info), primary_category:(Skincare), secondary_category:(Treatments), tertiary_category:(Face Serums), rating:(4.6087), size:(1 oz 30 mL), price:(72.0), ingredients:(Water Aqua Eau CaprylicCapric Triglyceride Propanediol Glycerin Butylene Glycol Ascorbic Acid Triheptanoin Pseudoalteromonas Ferment Extract C1315 Alkane Parachlorella Beijerinckii Exopolysaccharides Biosaccharide Gum1 Bakuchiol Beta Vulgaris Root Extract Hydrolyzed Corn Starch Sodium Hyaluronate Melia Azadirachta Leaf Extract Melia Azadirachta Flower Extract Corallina Officinalis Extract Coccinia Indica Fruit Extract Solanum Melongena Fruit Extract Aloe Barbadensis Flower Extract Simmondsia Chinensis Jojoba Seed Oil Curcuma Longa Root Extract Ocimum Basilicum FlowerLeaf Extract Ocimum Sanctum Leaf Extract Salicylic Acid Tocopherol Sodium Polyacryloyldimethyl Taurate Sodium Citrate Phycocyanin Lavandula Angustifolia Oil Tanacetum Vulgare Extract Tetrasodium Glutamate Diacetate Potassium Sorbate Caprylyl Glycol Ethylhexylglycerin Phenoxyethanol Sodium Salicylate Linalool Limonene)'"
            ]
          },
          "execution_count": 36,
          "metadata": {},
          "output_type": "execute_result"
        }
      ],
      "source": [
        "sephora_products['content'].iloc[102]  # check the content"
      ]
    },
    {
      "cell_type": "code",
      "execution_count": 37,
      "metadata": {
        "colab": {
          "base_uri": "https://localhost:8080/"
        },
        "id": "v07rnGh2fNES",
        "outputId": "4535bbd8-5d58-47a4-b148-61b57d823a3e"
      },
      "outputs": [
        {
          "data": {
            "text/plain": [
              "8494"
            ]
          },
          "execution_count": 37,
          "metadata": {},
          "output_type": "execute_result"
        }
      ],
      "source": [
        "sephora_products.shape[0] # check number of row"
      ]
    },
    {
      "cell_type": "code",
      "execution_count": 38,
      "metadata": {
        "id": "zoMvJAIz3UMx"
      },
      "outputs": [],
      "source": [
        "# Iterating through batches of the 'sephora_products' DataFrame, ingesting documents to Pinecone index\n",
        "#for batch in np.array_split(sephora_products, len(sephora_products)/batch_limit):\n",
        "#  metadata=[{\"product_id\":row[\"product_id\"],\n",
        "#             \"content\":row[\"content\"]} for _,row in batch.iterrows()] # Creating metadata for each product in the batch\n",
        "#  texts=batch[\"content\"].tolist()\n",
        "#  ids=[str(uuid4()) for _ in range(len(texts))]  # Generating unique IDs for each text using uuid4\n",
        "#  response = client.embeddings.create(input=texts, model='text-embedding-3-small')\n",
        "#  embeds=[np.array(x.embedding) for x in response.data]\n",
        "#  index.upsert(vectors=zip(ids,embeds, metadata),namespace=namespace)\n",
        "\n",
        "\n"
      ]
    },
    {
      "cell_type": "code",
      "execution_count": 39,
      "metadata": {
        "colab": {
          "base_uri": "https://localhost:8080/"
        },
        "id": "yJwq41dVb6rv",
        "outputId": "bf5a2df1-2788-4885-cf2c-9d40b8ff2b05"
      },
      "outputs": [
        {
          "data": {
            "text/plain": [
              "{'dimension': 1536,\n",
              " 'index_fullness': 0.08494,\n",
              " 'namespaces': {'sephora': {'vector_count': 8494}},\n",
              " 'total_vector_count': 8494}"
            ]
          },
          "execution_count": 39,
          "metadata": {},
          "output_type": "execute_result"
        }
      ],
      "source": [
        "# Describing and retrieving statistics about the \"sephora\" index again to se if load the correct amount of rows\n",
        "index.describe_index_stats()"
      ]
    },
    {
      "cell_type": "code",
      "execution_count": 40,
      "metadata": {
        "id": "JvPZHPVXNBpP"
      },
      "outputs": [],
      "source": [
        "def retrieve(query, top_k,namespace,emb_model):\n",
        "  query_response=client.embeddings.create(input=query,model=emb_model)  # Generate an embedding for the query using the specified embedding model\n",
        "  query_emb=query_response.data[0].embedding\n",
        "  retrieved_docs=[]\n",
        "  # Vector search on the index using the query embedding\n",
        "  docs=index.query(vector=query_emb,\n",
        "                   top_k=top_k,\n",
        "                   namespace=namespace,\n",
        "                   include_metadata=True)\n",
        "  # Iterate over the matched documents and extract their content\n",
        "  for doc in docs['matches']:\n",
        "    retrieved_docs.append(doc['metadata']['content'])\n",
        "  return retrieved_docs"
      ]
    },
    {
      "cell_type": "code",
      "execution_count": 41,
      "metadata": {
        "id": "hebd8m5ZIGVP"
      },
      "outputs": [],
      "source": [
        "#check the retrieved_docs\n",
        "#documents=retrieve(query,top_k=3,namespace='sephora', emb_model='text-embedding-3-small')\n",
        "#documents"
      ]
    },
    {
      "cell_type": "code",
      "execution_count": 42,
      "metadata": {
        "id": "scODQ-kEPAZn"
      },
      "outputs": [],
      "source": [
        "def prompt_with_context_builder(query, docs, maxlen=9500):\n",
        "  delim = '\\n\\n---\\n\\n'\n",
        "\n",
        "  # Instructs the model to answer based on the context\n",
        "  prompt_start = 'Answer the question based on the context below.\\n\\ncontext:\\n'\n",
        "\n",
        "  # Includes the question and the placeholder for the answer\n",
        "  prompt_end = f'\\n\\nQuestion: {query}\\nAnswer:'\n",
        "\n",
        "  # Initialize total_length to keep track of the accumulated length of the documents\n",
        "  # Initialize i to keep track of the index of the last document included in the prompt\n",
        "  total_length, i = 0, 0\n",
        "\n",
        "  # Iterate over the documents\n",
        "  for i, doc in enumerate(docs):\n",
        "    # Add the length of the current document and the delimiter to the total length\n",
        "    total_length += len(doc) + len(delim)\n",
        "\n",
        "    # If the accumulated length exceeds the maximum length, stop adding more documents\n",
        "    if total_length >= maxlen:\n",
        "      break\n",
        "\n",
        "  # Construct the prompt by concatenating the start of the prompt, the selected documents joined by the delimiter, and the end of the prompt\n",
        "  prompt = prompt_start + delim.join(docs[0:(i+1)]) + prompt_end\n",
        "\n",
        "  # Return the constructed prompt\n",
        "  return prompt\n"
      ]
    },
    {
      "cell_type": "code",
      "execution_count": 43,
      "metadata": {
        "id": "SwKvPGrJQWBv"
      },
      "outputs": [],
      "source": [
        "from multiprocessing import context"
      ]
    },
    {
      "cell_type": "code",
      "execution_count": 44,
      "metadata": {
        "id": "b9bv2mL3QyPM"
      },
      "outputs": [],
      "source": [
        "def question_answering(prompt, sources, chat_model):\n",
        "  # Define the system prompt which sets the behavior of the assistant\n",
        "  sys_prompt = (\n",
        "    \"You are an assistant that helps a customer with answering questions. \"\n",
        "    \"Please answer the question based on the provided context below. \"\n",
        "    \"Make sure not to make any changes to the context, if possible, when preparing answers to provide accurate responses. \"\n",
        "    \"If the answer cannot be found in context, just politely say that you do not know, do not try to make up an answer.\"\n",
        "  )\n",
        "\n",
        "  # Call the chat completion API with the specified model and messages\n",
        "  res = client.chat.completions.create(\n",
        "    model = chat_model,    # Use the specified chat model\n",
        "    messages = [           # List of messages to send to the model\n",
        "      {\"role\": \"system\", \"content\": sys_prompt},  # System prompt setting the behavior\n",
        "      {\"role\": \"user\", \"content\": prompt}         # User prompt containing the question and context\n",
        "    ],\n",
        "    temperature = 0        # Set temperature to 0 for deterministic output\n",
        "  )\n",
        "\n",
        "  # Extract the answer from the API response\n",
        "  answer = res.choices[0].message.content.strip()\n",
        "\n",
        "  # Return the extracted answer\n",
        "  return answer"
      ]
    },
    {
      "cell_type": "markdown",
      "metadata": {
        "id": "18-P5m2DLJGt"
      },
      "source": [
        "Temperature = 0: When the temperature is set to 0, the model generates the most likely response according to its training data. This means it will always choose the highest probability token at each step, leading to more deterministic and predictable output. Essentially, the model will be very focused on producing the \"safest\" and most expected continuation of the text."
      ]
    },
    {
      "cell_type": "code",
      "execution_count": 45,
      "metadata": {
        "id": "KxiqcGj1SQZ2"
      },
      "outputs": [],
      "source": [
        "query=\"I'm allergic to Salicylic Acid, its safe to use the Blue Algae Vitamin C Skinclarity Brightening Serum?\"\n",
        "documents=retrieve(query,top_k=3,namespace='sephora', emb_model='text-embedding-3-small')\n",
        "context_prompt=prompt_with_context_builder(query,documents)\n",
        "answer=question_answering(context_prompt,documents,chat_model='gpt-3.5-turbo')"
      ]
    },
    {
      "cell_type": "code",
      "execution_count": 46,
      "metadata": {
        "colab": {
          "base_uri": "https://localhost:8080/"
        },
        "id": "gtwUrqikUGC9",
        "outputId": "11b02613-56ef-4450-e7c1-5af5f2664142"
      },
      "outputs": [
        {
          "name": "stdout",
          "output_type": "stream",
          "text": [
            "I'm sorry, but the Blue Algae Vitamin C Skinclarity Brightening Serum contains Salicylic Acid in its ingredients. Since you are allergic to Salicylic Acid, it may not be safe for you to use this serum.\n"
          ]
        }
      ],
      "source": [
        "print(answer)"
      ]
    },
    {
      "cell_type": "code",
      "execution_count": null,
      "metadata": {
        "id": "i2iYqqnJDx-A"
      },
      "outputs": [],
      "source": [
        "query=\"I'm allergic to Salicylic Acid, its safe to use the P474809?\"\n",
        "documents=retrieve(query,top_k=3,namespace='sephora', emb_model='text-embedding-3-small')\n",
        "context_prompt=prompt_with_context_builder(query,documents)\n",
        "answer=question_answering(context_prompt,documents,chat_model='gpt-3.5-turbo')"
      ]
    },
    {
      "cell_type": "code",
      "execution_count": null,
      "metadata": {
        "colab": {
          "base_uri": "https://localhost:8080/"
        },
        "id": "wNwse4uDDxnH",
        "outputId": "9c4bc77f-97e3-466d-904e-d6610f920f38"
      },
      "outputs": [
        {
          "name": "stdout",
          "output_type": "stream",
          "text": [
            "I'm sorry, but the provided context does not include any information about product ID P474809. I recommend checking the product details or consulting with a healthcare professional to ensure it is safe for you to use based on your allergy to Salicylic Acid.\n"
          ]
        }
      ],
      "source": [
        "print(answer)"
      ]
    },
    {
      "cell_type": "code",
      "execution_count": null,
      "metadata": {
        "id": "4D93ZQjsuf9-"
      },
      "outputs": [],
      "source": [
        "query=\"what its the product_id of Blue Algae Vitamin C Skinclarity Brightening Serum\"\n",
        "documents=retrieve(query,top_k=3,namespace='sephora', emb_model='text-embedding-3-small')\n",
        "context_prompt=prompt_with_context_builder(query,documents)\n",
        "answer=question_answering(context_prompt,documents,chat_model='gpt-3.5-turbo')"
      ]
    },
    {
      "cell_type": "code",
      "execution_count": null,
      "metadata": {
        "colab": {
          "base_uri": "https://localhost:8080/"
        },
        "id": "X2JDs_ysumy8",
        "outputId": "2d2950e8-bde8-4096-e5a6-ec703d5c18be"
      },
      "outputs": [
        {
          "name": "stdout",
          "output_type": "stream",
          "text": [
            "The product_id of Blue Algae Vitamin C Skinclarity Brightening Serum is P474809.\n"
          ]
        }
      ],
      "source": [
        "print(answer)"
      ]
    },
    {
      "cell_type": "code",
      "execution_count": null,
      "metadata": {
        "id": "kpldkpJ_pLij"
      },
      "outputs": [],
      "source": [
        "query=\"what are all the coincident ingredients between Blue Algae Vitamin C Skinclarity Brightening Serum and Waterless Vitamin C Serum\"\n",
        "documents=retrieve(query,top_k=3,namespace='sephora', emb_model='text-embedding-3-small')\n",
        "context_prompt=prompt_with_context_builder(query,documents)\n",
        "answer=question_answering(context_prompt,documents,chat_model='gpt-3.5-turbo')"
      ]
    },
    {
      "cell_type": "code",
      "execution_count": null,
      "metadata": {
        "colab": {
          "base_uri": "https://localhost:8080/"
        },
        "id": "nFkYzvKRpSQ_",
        "outputId": "ca2b44ef-7dbe-4520-a705-dbd09a5b1a6b"
      },
      "outputs": [
        {
          "name": "stdout",
          "output_type": "stream",
          "text": [
            "The coincident ingredients between Blue Algae Vitamin C Skinclarity Brightening Serum and Waterless Vitamin C Serum are Ascorbic Acid and Sodium Citrate.\n"
          ]
        }
      ],
      "source": [
        "print(answer)"
      ]
    },
    {
      "cell_type": "code",
      "execution_count": null,
      "metadata": {
        "id": "-azWPBrfs9ZL"
      },
      "outputs": [],
      "source": [
        "query=\"what are all the ingredients of Blue Algae Vitamin C Skinclarity Brightening Serum\"\n",
        "documents=retrieve(query,top_k=3,namespace='sephora', emb_model='text-embedding-3-small')\n",
        "context_prompt=prompt_with_context_builder(query,documents)\n",
        "answer=question_answering(context_prompt,documents,chat_model='gpt-3.5-turbo')"
      ]
    },
    {
      "cell_type": "code",
      "execution_count": null,
      "metadata": {
        "colab": {
          "base_uri": "https://localhost:8080/"
        },
        "id": "bPAq-Z-gtm_K",
        "outputId": "dd0de97d-76eb-4036-fbf6-4ba143b5e2d5"
      },
      "outputs": [
        {
          "name": "stdout",
          "output_type": "stream",
          "text": [
            "Water Aqua Eau, Caprylic/Capric Triglyceride, Propanediol, Glycerin, Butylene Glycol, Ascorbic Acid, Triheptanoin, Pseudoalteromonas Ferment Extract, C13-15 Alkane, Parachlorella Beijerinckii Exopolysaccharides, Biosaccharide Gum-1, Bakuchiol, Beta Vulgaris (Beet) Root Extract, Hydrolyzed Corn Starch, Sodium Hyaluronate, Melia Azadirachta Leaf Extract, Melia Azadirachta Flower Extract, Corallina Officinalis Extract, Coccinia Indica Fruit Extract, Solanum Melongena (Eggplant) Fruit Extract, Aloe Barbadensis Flower Extract, Simmondsia Chinensis (Jojoba) Seed Oil, Curcuma Longa (Turmeric) Root Extract, Ocimum Basilicum (Basil) Flower/Leaf Extract, Ocimum Sanctum Leaf Extract, Salicylic Acid, Tocopherol, Sodium Polyacryloyldimethyl Taurate, Sodium Citrate, Phycocyanin, Lavandula Angustifolia (Lavender) Oil, Tanacetum Vulgare Extract, Tetrasodium Glutamate Diacetate, Potassium Sorbate, Caprylyl Glycol, Ethylhexylglycerin, Phenoxyethanol, Sodium Salicylate, Linalool, Limonene.\n"
          ]
        }
      ],
      "source": [
        "print(answer)"
      ]
    },
    {
      "cell_type": "code",
      "execution_count": null,
      "metadata": {
        "id": "ZECT79fEGCBs"
      },
      "outputs": [],
      "source": [
        "query=\"what it is a product of the same category, same ingredients, cheapear than Blue Algae Vitamin C Skinclarity Brightening Serum\"\n",
        "documents=retrieve(query,top_k=3,namespace='sephora', emb_model='text-embedding-3-small')\n",
        "context_prompt=prompt_with_context_builder(query,documents)\n",
        "answer=question_answering(context_prompt,documents,chat_model='gpt-3.5-turbo')"
      ]
    },
    {
      "cell_type": "code",
      "execution_count": null,
      "metadata": {
        "colab": {
          "base_uri": "https://localhost:8080/"
        },
        "id": "sMDLhQj_GBtb",
        "outputId": "9cef1edb-0dee-4233-a27d-5a12ddd6525e"
      },
      "outputs": [
        {
          "name": "stdout",
          "output_type": "stream",
          "text": [
            "The product \"10 Vitamin C Brightening Serum\" is of the same category, face serums, has similar ingredients, and is cheaper than the \"Blue Algae Vitamin C Skinclarity Brightening Serum.\"\n"
          ]
        }
      ],
      "source": [
        "print(answer)"
      ]
    },
    {
      "cell_type": "code",
      "execution_count": null,
      "metadata": {
        "id": "xVloDLL7EUqe"
      },
      "outputs": [],
      "source": [
        "query=\"I'm planning to buy Blue Algae Vitamin C Skinclarity Brightening Serum,Waterless Vitamin C Serum and GENIUS Sleeping Collagen Moisturizer, im allergict to salicylic acid, check if this products contain it and if so suggest me another similar products\"\n",
        "documents=retrieve(query,top_k=3,namespace='sephora', emb_model='text-embedding-3-small')\n",
        "context_prompt=prompt_with_context_builder(query,documents)\n",
        "answer=question_answering(context_prompt,documents,chat_model='gpt-3.5-turbo')"
      ]
    },
    {
      "cell_type": "code",
      "execution_count": null,
      "metadata": {
        "colab": {
          "base_uri": "https://localhost:8080/"
        },
        "id": "2lIlelAxEUc8",
        "outputId": "3c5e273d-e005-483b-c21f-370bbef30575"
      },
      "outputs": [
        {
          "name": "stdout",
          "output_type": "stream",
          "text": [
            "The Blue Algae Vitamin C Skinclarity Brightening Serum does contain Salicylic Acid in its ingredients. The GENIUS Ultimate AntiAging Vitamin C Serum also contains Salicylic Acid. Since you are allergic to Salicylic Acid, I recommend avoiding these products. I suggest looking for alternative serums and moisturizers that do not contain Salicylic Acid in their ingredients.\n"
          ]
        }
      ],
      "source": [
        "print(answer)"
      ]
    },
    {
      "cell_type": "code",
      "execution_count": null,
      "metadata": {
        "colab": {
          "base_uri": "https://localhost:8080/"
        },
        "id": "RKbZIA4ytsp4",
        "outputId": "2f8d2699-5e75-4d17-d0f6-39aa4669405b"
      },
      "outputs": [
        {
          "name": "stdout",
          "output_type": "stream",
          "text": [
            "Porcentaje de coincidencia: 82.93%\n"
          ]
        }
      ],
      "source": [
        "# Listas de ingredientes como cadenas de texto\n",
        "ingredientes_1 = 'Water (Aqua, Eau), Caprylic/Capric Triglyceride, Propanediol, Glycerin, Butylene Glycol, Ascorbic Acid, Triheptanoin, Pseudoalteromonas Ferment Extract, C13-15 Alkane, Parachlorella Beijerinckii Exopolysaccharides, Biosaccharide Gum-1, Bakuchiol, Beta Vulgaris Root Extract, Hydrolyzed Corn Starch, Sodium Hyaluronate, Melia Azadirachta Leaf Extract, Melia Azadirachta Flower Extract, Corallina Officinalis Extract, Coccinia Indica Fruit Extract, Solanum Melongena Fruit Extract, Aloe Barbadensis Flower Extract, Simmondsia Chinensis (Jojoba) Seed Oil, Curcuma Longa Root Extract, Ocimum Basilicum Flower/Leaf Extract, Ocimum Sanctum Leaf Extract, Salicylic Acid, Tocopherol, Sodium Polyacryloyldimethyl Taurate, Sodium Citrate, Phycocyanin, Lavandula Angustifolia Oil, Tanacetum Vulgare Extract, Tetrasodium Glutamate Diacetate, Potassium Sorbate, Caprylyl Glycol, Ethylhexylglycerin, Phenoxyethanol, Sodium Salicylate, Linalool, Limonene.'\n",
        "ingredientes_2 = 'Water Aqua Eau, Caprylic/Capric Triglyceride, Propanediol, Glycerin, Butylene Glycol, Ascorbic Acid, Triheptanoin, Pseudoalteromonas Ferment Extract, C13-15 Alkane, Parachlorella Beijerinckii Exopolysaccharides, Biosaccharide Gum-1, Bakuchiol, Beta Vulgaris (Beet) Root Extract, Hydrolyzed Corn Starch, Sodium Hyaluronate, Melia Azadirachta Leaf Extract, Melia Azadirachta Flower Extract, Corallina Officinalis Extract, Coccinia Indica Fruit Extract, Solanum Melongena (Eggplant) Fruit Extract, Aloe Barbadensis Flower Extract, Simmondsia Chinensis (Jojoba) Seed Oil, Curcuma Longa (Turmeric) Root Extract, Ocimum Basilicum (Basil) Flower/Leaf Extract, Ocimum Sanctum Leaf Extract, Salicylic Acid, Tocopherol, Sodium Polyacryloyldimethyl Taurate, Sodium Citrate, Phycocyanin, Lavandula Angustifolia (Lavender) Oil, Tanacetum Vulgare Extract, Tetrasodium Glutamate Diacetate, Potassium Sorbate, Caprylyl Glycol, Ethylhexylglycerin, Phenoxyethanol, Sodium Salicylate, Linalool, Limonene.'\n",
        "\n",
        "# Convertir las cadenas en listas de ingredientes\n",
        "lista_ingredientes_1 = [ingrediente.strip() for ingrediente in ingredientes_1.split(',')]\n",
        "lista_ingredientes_2 = [ingrediente.strip() for ingrediente in ingredientes_2.split(',')]\n",
        "\n",
        "# Calcular las coincidencias\n",
        "coincidencias = set(lista_ingredientes_1) & set(lista_ingredientes_2)\n",
        "\n",
        "# Calcular el porcentaje de coincidencias respecto a la primera lista\n",
        "porcentaje_coincidencia = (len(coincidencias) / len(lista_ingredientes_1)) * 100\n",
        "\n",
        "print(f'Porcentaje de coincidencia: {porcentaje_coincidencia:.2f}%')\n"
      ]
    },
    {
      "cell_type": "code",
      "execution_count": null,
      "metadata": {
        "id": "-3qDPk5TOKj2"
      },
      "outputs": [],
      "source": [
        "query=\"which product of the Skincare primary category has the highest rating and why\"\n",
        "documents=retrieve(query,top_k=3,namespace='sephora', emb_model='text-embedding-3-small')\n",
        "context_prompt=prompt_with_context_builder(query,documents)\n",
        "answer=question_answering(context_prompt,documents,chat_model='gpt-3.5-turbo')"
      ]
    },
    {
      "cell_type": "code",
      "execution_count": null,
      "metadata": {
        "colab": {
          "base_uri": "https://localhost:8080/"
        },
        "id": "d6bRMlGVOKX6",
        "outputId": "0adfc43f-5f5f-4f4d-c465-749e5278108e"
      },
      "outputs": [
        {
          "name": "stdout",
          "output_type": "stream",
          "text": [
            "The product with the highest rating in the Skincare primary category is \"Beauty Sleep Power Peel AgeDefying Night Peel\" with a rating of 4.6. This product has a higher rating compared to the other skincare products listed, making it the top-rated product in the Skincare category.\n"
          ]
        }
      ],
      "source": [
        "print(answer)"
      ]
    },
    {
      "cell_type": "code",
      "execution_count": null,
      "metadata": {
        "id": "KfAMxiU6Qiae"
      },
      "outputs": [],
      "source": [
        "#Liquid Gold Midnight Reboot Serum with 14% Glycolic Acid and Tripeptide-5\n",
        "query=\"whats the rating of Liquid Gold Midnight Reboot Serum with 14% Glycolic Acid and Tripeptide-5 and which is its primary category?\"\n",
        "documents=retrieve(query,top_k=3,namespace='sephora', emb_model='text-embedding-3-small')\n",
        "context_prompt=prompt_with_context_builder(query,documents)\n",
        "answer=question_answering(context_prompt,documents,chat_model='gpt-3.5-turbo')"
      ]
    },
    {
      "cell_type": "code",
      "execution_count": null,
      "metadata": {
        "colab": {
          "base_uri": "https://localhost:8080/"
        },
        "id": "UF375CRrQyTo",
        "outputId": "3a0135c7-b162-4afa-8aac-754ef2f5653e"
      },
      "outputs": [
        {
          "name": "stdout",
          "output_type": "stream",
          "text": [
            "The rating of Liquid Gold Midnight Reboot Serum with 14% Glycolic Acid and Tripeptide-5 is 5.0, and its primary category is Skincare.\n"
          ]
        }
      ],
      "source": [
        "print(answer)"
      ]
    },
    {
      "cell_type": "code",
      "execution_count": null,
      "metadata": {
        "id": "RizhWBKCHvkq"
      },
      "outputs": [],
      "source": [
        "#pruebas\n",
        "query=\"Blue Algae Vitamin C Skinclarity Brightening Serum\"\n",
        "query_response=client.embeddings.create(\n",
        "    input=query,\n",
        "    model='text-embedding-3-small')\n",
        "query_emb=query_response.data[0].embedding\n",
        "retrieved_docs=index.query(vector=query_emb,\n",
        "                           top_k=5,\n",
        "                           namespace=namespace,\n",
        "                           include_metadata=True)\n"
      ]
    },
    {
      "cell_type": "code",
      "execution_count": null,
      "metadata": {
        "colab": {
          "base_uri": "https://localhost:8080/"
        },
        "id": "L32d45G5JT9H",
        "outputId": "05691635-01a5-4bfa-c7fa-47681153732e"
      },
      "outputs": [
        {
          "name": "stdout",
          "output_type": "stream",
          "text": [
            "0.77:ID:(P474809), Name:(Blue Algae Vitamin C Skinclarity Brightening Serum), highlights:(sin info), primary_category:(Skincare), secondary_category:(Treatments), tertiary_category:(Face Serums), rating:(4.6087), size:(1 oz 30 mL), price:(72.0), ingredients:(Water Aqua Eau CaprylicCapric Triglyceride Propanediol Glycerin Butylene Glycol Ascorbic Acid Triheptanoin Pseudoalteromonas Ferment Extract C1315 Alkane Parachlorella Beijerinckii Exopolysaccharides Biosaccharide Gum1 Bakuchiol Beta Vulgaris Root Extract Hydrolyzed Corn Starch Sodium Hyaluronate Melia Azadirachta Leaf Extract Melia Azadirachta Flower Extract Corallina Officinalis Extract Coccinia Indica Fruit Extract Solanum Melongena Fruit Extract Aloe Barbadensis Flower Extract Simmondsia Chinensis Jojoba Seed Oil Curcuma Longa Root Extract Ocimum Basilicum FlowerLeaf Extract Ocimum Sanctum Leaf Extract Salicylic Acid Tocopherol Sodium Polyacryloyldimethyl Taurate Sodium Citrate Phycocyanin Lavandula Angustifolia Oil Tanacetum Vulgare Extract Tetrasodium Glutamate Diacetate Potassium Sorbate Caprylyl Glycol Ethylhexylglycerin Phenoxyethanol Sodium Salicylate Linalool Limonene)\n",
            "0.65:ID:(P457694), Name:(Blue Algae Vitamin C Dark Spot Correcting Peel), highlights:(Vegan Vitamin C Hypoallergenic Good for Dark spots Best for Oily Combo Normal Skin), primary_category:(Skincare), secondary_category:(Treatments), tertiary_category:(Facial Peels), rating:(4.213), size:(15 oz 45 mL), price:(85.0), ingredients:(Glycerin Carthamus Tinctorius Safflower Seed Oil Helianthus Annuus Sunflower Seed Oil Limnanthes Alba Meadowfoam Seed Oil Glycolic Acid Gluconolactone Polyglyceryl10 BehenateEicosadioate Aminomethyl Propanol Ascorbic Acid Mandelic Acid Glyceryl BehenateEicosadioate Oleth5 Bisabolol Menthoxypropanediol Spirulina Platensis Extract Parachlorella Beijerinckii Exopolysaccharides Citric Acid Azelaic Acid Tranexamic Acid Malic Acid Salicylic Acid Dipotassium Glycyrrhizate Tocopheryl Acetate Tanacetum Annuum Flower Oil Lavandula Angustifolia Lavender Oil Sodium Hylauronate Coccinia Indica Fruit Extract Solanum Melongena Eggplant Fruit Extract Aloe Barbadensis Flower Extract Curcuma Longa Turmeric Root Extract Ocimum Basilicum Basil FlowerLeaf Extract Ocimum Sanctum Leaf Extract Simmondsia Chinensis Jojoba Seed Oil Tocopherol Melia Azadirachta Leaf Extract Melia Azadirachta Flower Extract Corallina Officinalis Extract Glyceryl Stearate SE Sodium Citrate Euphorbia Cerifera Candelilla Wax Behenyl Alcohol Polyglyceryl3 Stearate Ethylhexylglycerin Water Aqua Eau Phenoxyethanol)\n",
            "0.63:ID:(P455612), Name:(Vitamin C  Bearberry Instant Glow Serum), highlights:(allure 2020 Best of Beauty Award Winner Good for DullnessUneven Texture Vitamin C Clean  Planet Positive Good for AntiAging Good for Dark spots), primary_category:(Skincare), secondary_category:(Treatments), tertiary_category:(Face Serums), rating:(4.503), size:(17 oz 50 mL), price:(59.0), ingredients:(Aloe Barbadensis Aloe Vera Leaf Juice Cetearyl Alcohol Glycerin Squalane Capryloyl GlycerinSebacic Acid Copolymer Diheptyl Succinate Mica Titanium Dioxide Bakuchiol Tocopherol Mixed 3OEthyl Ascorbic Acid Glycolic Acid Sodium Phytate Sodium Hyaluronate Hydrolyzed Sodium Hyaluronate Azelaic Acid Zinc Oxide Xanthan Gum Linoleic Acid Cetearyl Glucoside Arnica Montana Arnica Flower Extract Simmondsia Chinensis Jojoba Seed Wax Borago Officinalis Borage Flower Extract Calendula Officinalis Calendula Flower Extract Chamomilla Recutita Matricaria Flower Extract Salvia Officinalis Sage Leaf Extract Dehydroacetic Acid DHA Benzyl Alcohol Potassium Sorbate Lactic Acid Tripeptide29 Hydrolyzed Lupine Protein Centella Asiatica Meristem Cell Culture Lavandula Angustifolia Lavender Oil Citrus Aurantium Dulcis Orange Oil Helianthus Annuus Sunflower Seed Oil Arctostaphylos Uva Ursi Bearberry Leaf Extract Water Glycyrrhiza Glabra Licorice Root Extract Ethylhexylglycerin Tin Oxide Caesalpinia Sappan Bark Extract)\n",
            "0.63:ID:(P439058), Name:(VioletC Brightening Serum 20 Vitamin C  10 AHA), highlights:(Good for DullnessUneven Texture Vitamin C Clean at Sephora Good for AntiAging Good for Dark spots), primary_category:(Skincare), secondary_category:(Treatments), tertiary_category:(Face Serums), rating:(4.2124), size:(1 oz 30 mL), price:(89.0), ingredients:(Water BisGlyceryl Ascorbate SaccharomycesCamellia Sinensis LeafCladosiphon OkamuranusRice Ferment Filtrate Propanediol Butylene Glycol Glycerin Ascorbyl Tetraisopalmitate Angelica Acutiloba Root Extract Callicarpa Japonica Fruit Extract Prunus Mume Fruit Extract Crataegus Cuneata Fruit Extract Pyrus Malus Apple Fruit Extract Citrus Paradisi Grapefruit Fruit Extract Citrus Aurantium Dulcis Orange Juice Citrus Limon Lemon Juice Citrus Aurantifolia Lime Juice Glycyrrhiza Glabra Licorice Root Extract Scutellaria Baicalensis Root Extract Artemisia Capillaris Flower Extract Morus Alba Root Extract Ziziphus Jujuba Fruit Extract Sodium Hyaluronate Lactic Acid Sodium Citrate Dipotassium Glycyrrhizate Ammonium AcryloyldimethyltaurateCarboxyethyl Acrylate Crosspolymer Disodium Edta Ppg6Decyltetradeceth30 Ethylhexylglycerin  Phenoxyethanol Hadasei3)\n",
            "0.63:ID:(P456571), Name:(Vitamin C Glycolic Brightening Serum), highlights:(Good for Dark Circles Good for DullnessUneven Texture AHAGlycolic Acid Vitamin C CrueltyFree), primary_category:(Skincare), secondary_category:(Treatments), tertiary_category:(Face Serums), rating:(4.2621), size:(1 oz 30 mL), price:(88.0), ingredients:(WaterAquaEau Glycolic Acid Glycerin CaprylicCapric Triglyceride Dimethicone Sodium Hydroxide HDITrimethylol Hexyllactone Crosspolymer Diisopropyl Sebacate C1316 Isoparaffin Polyacrylate Crosspolymer6 Dimethyl Isosorbide Ascorbic Acid Urea Yeast Amino Acids Trehalose Inositol Taurine Betaine Glutathione Tetrahexyldecyl Ascorbate Cetearyl Isononanoate Hydroxyethyl AcrylateSodium Acryloyldimethyl Taurate Copolymer Oleyl Alcohol Silica Hexylresorcinol Polysilicone11 Triheptanoin Polyisobutene Marrubium Vulgare Meristem Cell Culture Zanthoxylum Bungeanum Fruit Extract Hydrolyzed Verbascum Thapsus Flower Butylene Glycol Mica Hexylene Glycol Sodium Surfactin Xymenynic Acid Tocopheryl Acetate PEG7 Trimethylolpropane Coconut Ether Terminalia Ferdinandiana Fruit Extract Sorbitol Tin Oxide Xanthan Gum TButyl Alcohol Chlorella Vulgaris Extract Decyl Glucoside Gold Citric Acid Caprylyl Glycol Phenoxyethanol Ethylhexylglycerin Sodium Benzoate Potassium Sorbate Titanium Dioxide CI 77891)\n"
          ]
        }
      ],
      "source": [
        "for results in retrieved_docs['matches']:\n",
        "  print(f\"{round(results['score'], 2)}:{results['metadata']['content']}\")"
      ]
    }
  ],
  "metadata": {
    "colab": {
      "provenance": []
    },
    "kernelspec": {
      "display_name": "Python 3",
      "name": "python3"
    },
    "language_info": {
      "name": "python"
    }
  },
  "nbformat": 4,
  "nbformat_minor": 0
}
